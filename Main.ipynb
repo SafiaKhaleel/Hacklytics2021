{
 "cells": [
  {
   "cell_type": "markdown",
   "metadata": {},
   "source": [
    "# Hacklytics 2021\n",
    "Anusha, Edward, Pravallika, Safia"
   ]
  },
  {
   "cell_type": "markdown",
   "metadata": {},
   "source": [
    "Anusha"
   ]
  },
  {
   "cell_type": "code",
   "execution_count": null,
   "metadata": {},
   "outputs": [],
   "source": []
  },
  {
   "cell_type": "markdown",
   "metadata": {},
   "source": [
    "Edward"
   ]
  },
  {
   "cell_type": "markdown",
   "metadata": {},
   "source": [
    "# Import Required Tools"
   ]
  },
  {
   "cell_type": "code",
   "execution_count": 8,
   "metadata": {},
   "outputs": [],
   "source": [
    "import pandas as pd\n",
    "import numpy as np\n",
    "import matplotlib as mpl\n",
    "import matplotlib.pyplot as plt\n",
    "import seaborn as sns\n",
    "import sklearn"
   ]
  },
  {
   "cell_type": "markdown",
   "metadata": {},
   "source": [
    "# Initial Data Exploration"
   ]
  },
  {
   "cell_type": "markdown",
   "metadata": {},
   "source": [
    "Load files"
   ]
  },
  {
   "cell_type": "code",
   "execution_count": 9,
   "metadata": {},
   "outputs": [
    {
     "name": "stdout",
     "output_type": "stream",
     "text": [
      "https://raw.githubusercontent.com/SafiaKhaleel/Hacklytics2021/main/Region_Mobility_Report_CSVs/2020_US_Region_Mobility_Report.csv\n"
     ]
    }
   ],
   "source": [
    "country = \"US\"\n",
    "url_start = \"https://raw.githubusercontent.com/SafiaKhaleel/Hacklytics2021/main\"\n",
    "mobility_subfolder = \"/Region_Mobility_Report_CSVs\"\n",
    "file_name = \"/2020_\" + country + \"_Region_Mobility_Report.csv\"\n",
    "print(url_start + mobility_subfolder + file_name)\n",
    "country_df = pd.read_csv(url_start + mobility_subfolder + file_name)"
   ]
  },
  {
   "cell_type": "markdown",
   "metadata": {},
   "source": [
    "Preview"
   ]
  },
  {
   "cell_type": "code",
   "execution_count": 10,
   "metadata": {},
   "outputs": [
    {
     "name": "stdout",
     "output_type": "stream",
     "text": [
      "(892368, 14)\n"
     ]
    },
    {
     "data": {
      "text/html": [
       "<div>\n",
       "<style scoped>\n",
       "    .dataframe tbody tr th:only-of-type {\n",
       "        vertical-align: middle;\n",
       "    }\n",
       "\n",
       "    .dataframe tbody tr th {\n",
       "        vertical-align: top;\n",
       "    }\n",
       "\n",
       "    .dataframe thead th {\n",
       "        text-align: right;\n",
       "    }\n",
       "</style>\n",
       "<table border=\"1\" class=\"dataframe\">\n",
       "  <thead>\n",
       "    <tr style=\"text-align: right;\">\n",
       "      <th></th>\n",
       "      <th>country_region_code</th>\n",
       "      <th>country_region</th>\n",
       "      <th>sub_region_1</th>\n",
       "      <th>sub_region_2</th>\n",
       "      <th>metro_area</th>\n",
       "      <th>iso_3166_2_code</th>\n",
       "      <th>census_fips_code</th>\n",
       "      <th>date</th>\n",
       "      <th>retail_and_recreation_percent_change_from_baseline</th>\n",
       "      <th>grocery_and_pharmacy_percent_change_from_baseline</th>\n",
       "      <th>parks_percent_change_from_baseline</th>\n",
       "      <th>transit_stations_percent_change_from_baseline</th>\n",
       "      <th>workplaces_percent_change_from_baseline</th>\n",
       "      <th>residential_percent_change_from_baseline</th>\n",
       "    </tr>\n",
       "  </thead>\n",
       "  <tbody>\n",
       "    <tr>\n",
       "      <th>0</th>\n",
       "      <td>US</td>\n",
       "      <td>United States</td>\n",
       "      <td>NaN</td>\n",
       "      <td>NaN</td>\n",
       "      <td>NaN</td>\n",
       "      <td>NaN</td>\n",
       "      <td>NaN</td>\n",
       "      <td>2020-02-15</td>\n",
       "      <td>6.0</td>\n",
       "      <td>2.0</td>\n",
       "      <td>15.0</td>\n",
       "      <td>3.0</td>\n",
       "      <td>2.0</td>\n",
       "      <td>-1.0</td>\n",
       "    </tr>\n",
       "    <tr>\n",
       "      <th>1</th>\n",
       "      <td>US</td>\n",
       "      <td>United States</td>\n",
       "      <td>NaN</td>\n",
       "      <td>NaN</td>\n",
       "      <td>NaN</td>\n",
       "      <td>NaN</td>\n",
       "      <td>NaN</td>\n",
       "      <td>2020-02-16</td>\n",
       "      <td>7.0</td>\n",
       "      <td>1.0</td>\n",
       "      <td>16.0</td>\n",
       "      <td>2.0</td>\n",
       "      <td>0.0</td>\n",
       "      <td>-1.0</td>\n",
       "    </tr>\n",
       "    <tr>\n",
       "      <th>2</th>\n",
       "      <td>US</td>\n",
       "      <td>United States</td>\n",
       "      <td>NaN</td>\n",
       "      <td>NaN</td>\n",
       "      <td>NaN</td>\n",
       "      <td>NaN</td>\n",
       "      <td>NaN</td>\n",
       "      <td>2020-02-17</td>\n",
       "      <td>6.0</td>\n",
       "      <td>0.0</td>\n",
       "      <td>28.0</td>\n",
       "      <td>-9.0</td>\n",
       "      <td>-24.0</td>\n",
       "      <td>5.0</td>\n",
       "    </tr>\n",
       "    <tr>\n",
       "      <th>3</th>\n",
       "      <td>US</td>\n",
       "      <td>United States</td>\n",
       "      <td>NaN</td>\n",
       "      <td>NaN</td>\n",
       "      <td>NaN</td>\n",
       "      <td>NaN</td>\n",
       "      <td>NaN</td>\n",
       "      <td>2020-02-18</td>\n",
       "      <td>0.0</td>\n",
       "      <td>-1.0</td>\n",
       "      <td>6.0</td>\n",
       "      <td>1.0</td>\n",
       "      <td>0.0</td>\n",
       "      <td>1.0</td>\n",
       "    </tr>\n",
       "    <tr>\n",
       "      <th>4</th>\n",
       "      <td>US</td>\n",
       "      <td>United States</td>\n",
       "      <td>NaN</td>\n",
       "      <td>NaN</td>\n",
       "      <td>NaN</td>\n",
       "      <td>NaN</td>\n",
       "      <td>NaN</td>\n",
       "      <td>2020-02-19</td>\n",
       "      <td>2.0</td>\n",
       "      <td>0.0</td>\n",
       "      <td>8.0</td>\n",
       "      <td>1.0</td>\n",
       "      <td>1.0</td>\n",
       "      <td>0.0</td>\n",
       "    </tr>\n",
       "  </tbody>\n",
       "</table>\n",
       "</div>"
      ],
      "text/plain": [
       "  country_region_code country_region sub_region_1 sub_region_2  metro_area  \\\n",
       "0                  US  United States          NaN          NaN         NaN   \n",
       "1                  US  United States          NaN          NaN         NaN   \n",
       "2                  US  United States          NaN          NaN         NaN   \n",
       "3                  US  United States          NaN          NaN         NaN   \n",
       "4                  US  United States          NaN          NaN         NaN   \n",
       "\n",
       "  iso_3166_2_code  census_fips_code        date  \\\n",
       "0             NaN               NaN  2020-02-15   \n",
       "1             NaN               NaN  2020-02-16   \n",
       "2             NaN               NaN  2020-02-17   \n",
       "3             NaN               NaN  2020-02-18   \n",
       "4             NaN               NaN  2020-02-19   \n",
       "\n",
       "   retail_and_recreation_percent_change_from_baseline  \\\n",
       "0                                                6.0    \n",
       "1                                                7.0    \n",
       "2                                                6.0    \n",
       "3                                                0.0    \n",
       "4                                                2.0    \n",
       "\n",
       "   grocery_and_pharmacy_percent_change_from_baseline  \\\n",
       "0                                                2.0   \n",
       "1                                                1.0   \n",
       "2                                                0.0   \n",
       "3                                               -1.0   \n",
       "4                                                0.0   \n",
       "\n",
       "   parks_percent_change_from_baseline  \\\n",
       "0                                15.0   \n",
       "1                                16.0   \n",
       "2                                28.0   \n",
       "3                                 6.0   \n",
       "4                                 8.0   \n",
       "\n",
       "   transit_stations_percent_change_from_baseline  \\\n",
       "0                                            3.0   \n",
       "1                                            2.0   \n",
       "2                                           -9.0   \n",
       "3                                            1.0   \n",
       "4                                            1.0   \n",
       "\n",
       "   workplaces_percent_change_from_baseline  \\\n",
       "0                                      2.0   \n",
       "1                                      0.0   \n",
       "2                                    -24.0   \n",
       "3                                      0.0   \n",
       "4                                      1.0   \n",
       "\n",
       "   residential_percent_change_from_baseline  \n",
       "0                                      -1.0  \n",
       "1                                      -1.0  \n",
       "2                                       5.0  \n",
       "3                                       1.0  \n",
       "4                                       0.0  "
      ]
     },
     "execution_count": 10,
     "metadata": {},
     "output_type": "execute_result"
    }
   ],
   "source": [
    "print(country_df.shape)\n",
    "country_df.head()"
   ]
  },
  {
   "cell_type": "markdown",
   "metadata": {},
   "source": [
    "See how many values are missing"
   ]
  },
  {
   "cell_type": "code",
   "execution_count": 11,
   "metadata": {},
   "outputs": [
    {
     "name": "stdout",
     "output_type": "stream",
     "text": [
      "country_region_code                                        0\n",
      "country_region                                             0\n",
      "sub_region_1                                             352\n",
      "sub_region_2                                           18304\n",
      "metro_area                                            892368\n",
      "iso_3166_2_code                                       874416\n",
      "census_fips_code                                       17952\n",
      "date                                                       0\n",
      "retail_and_recreation_percent_change_from_baseline    299200\n",
      "grocery_and_pharmacy_percent_change_from_baseline     354737\n",
      "parks_percent_change_from_baseline                    674297\n",
      "transit_stations_percent_change_from_baseline         550962\n",
      "workplaces_percent_change_from_baseline                25478\n",
      "residential_percent_change_from_baseline              410488\n",
      "dtype: int64\n"
     ]
    }
   ],
   "source": [
    "print(country_df.isnull().sum())"
   ]
  },
  {
   "cell_type": "markdown",
   "metadata": {},
   "source": [
    "A lot of values seem to be missing. After exploring the data manually, it appears that there are many counties with incomplete data. Let us focus on the counties that have complete data. To do this, we drop the rows with incomplete data."
   ]
  },
  {
   "cell_type": "code",
   "execution_count": 12,
   "metadata": {},
   "outputs": [
    {
     "name": "stdout",
     "output_type": "stream",
     "text": [
      "country_region_code                                        0\n",
      "country_region                                             0\n",
      "sub_region_1                                             352\n",
      "sub_region_2                                           17849\n",
      "metro_area                                            172174\n",
      "iso_3166_2_code                                       154677\n",
      "census_fips_code                                       17497\n",
      "date                                                       0\n",
      "retail_and_recreation_percent_change_from_baseline         0\n",
      "grocery_and_pharmacy_percent_change_from_baseline          0\n",
      "parks_percent_change_from_baseline                         0\n",
      "transit_stations_percent_change_from_baseline              0\n",
      "workplaces_percent_change_from_baseline                    0\n",
      "residential_percent_change_from_baseline                   0\n",
      "dtype: int64\n"
     ]
    }
   ],
   "source": [
    "places = ['retail_and_recreation','grocery_and_pharmacy','parks','transit_stations','workplaces','residential']\n",
    "places_percent_change = [place + '_percent_change_from_baseline' for place in places]\n",
    "clean_country_df = country_df.dropna(axis = 0, subset = places_percent_change)\n",
    "print(clean_country_df.isnull().sum())"
   ]
  },
  {
   "cell_type": "markdown",
   "metadata": {},
   "source": [
    "See which counties have enough entries"
   ]
  },
  {
   "cell_type": "code",
   "execution_count": 13,
   "metadata": {},
   "outputs": [
    {
     "name": "stdout",
     "output_type": "stream",
     "text": [
      "0      327\n",
      "1        1\n",
      "2      163\n",
      "3      155\n",
      "4       12\n",
      "      ... \n",
      "694     10\n",
      "695    281\n",
      "696    172\n",
      "697    276\n",
      "698    234\n",
      "Name: date, Length: 699, dtype: int64\n",
      "      sub_region_1       sub_region_2\n",
      "0          Alabama     Baldwin County\n",
      "7          Alabama     Madison County\n",
      "8          Alabama      Mobile County\n",
      "9          Alabama  Montgomery County\n",
      "10         Alabama      Morgan County\n",
      "..             ...                ...\n",
      "671     Washington      Yakima County\n",
      "675  West Virginia     Kanawha County\n",
      "679      Wisconsin       Brown County\n",
      "680      Wisconsin        Dane County\n",
      "686      Wisconsin   Milwaukee County\n",
      "\n",
      "[321 rows x 2 columns]\n"
     ]
    }
   ],
   "source": [
    "county_grouped_df = clean_country_df.groupby(['sub_region_1','sub_region_2']).count().reset_index()\n",
    "print(county_grouped_df['date'])\n",
    "state_county_pair = county_grouped_df[['sub_region_1', 'sub_region_2']][county_grouped_df['date']>300]\n",
    "print(state_county_pair)"
   ]
  },
  {
   "cell_type": "markdown",
   "metadata": {},
   "source": [
    "Only keep those counties in dataframe"
   ]
  },
  {
   "cell_type": "code",
   "execution_count": 14,
   "metadata": {},
   "outputs": [
    {
     "data": {
      "text/html": [
       "<div>\n",
       "<style scoped>\n",
       "    .dataframe tbody tr th:only-of-type {\n",
       "        vertical-align: middle;\n",
       "    }\n",
       "\n",
       "    .dataframe tbody tr th {\n",
       "        vertical-align: top;\n",
       "    }\n",
       "\n",
       "    .dataframe thead th {\n",
       "        text-align: right;\n",
       "    }\n",
       "</style>\n",
       "<table border=\"1\" class=\"dataframe\">\n",
       "  <thead>\n",
       "    <tr style=\"text-align: right;\">\n",
       "      <th></th>\n",
       "      <th>country_region_code</th>\n",
       "      <th>country_region</th>\n",
       "      <th>sub_region_1</th>\n",
       "      <th>sub_region_2</th>\n",
       "      <th>metro_area</th>\n",
       "      <th>iso_3166_2_code</th>\n",
       "      <th>census_fips_code</th>\n",
       "      <th>date</th>\n",
       "      <th>retail_and_recreation_percent_change_from_baseline</th>\n",
       "      <th>grocery_and_pharmacy_percent_change_from_baseline</th>\n",
       "      <th>parks_percent_change_from_baseline</th>\n",
       "      <th>transit_stations_percent_change_from_baseline</th>\n",
       "      <th>workplaces_percent_change_from_baseline</th>\n",
       "      <th>residential_percent_change_from_baseline</th>\n",
       "    </tr>\n",
       "  </thead>\n",
       "  <tbody>\n",
       "    <tr>\n",
       "      <th>1050</th>\n",
       "      <td>US</td>\n",
       "      <td>United States</td>\n",
       "      <td>Alabama</td>\n",
       "      <td>Baldwin County</td>\n",
       "      <td>NaN</td>\n",
       "      <td>NaN</td>\n",
       "      <td>1003.0</td>\n",
       "      <td>2020-02-15</td>\n",
       "      <td>17.0</td>\n",
       "      <td>12.0</td>\n",
       "      <td>55.0</td>\n",
       "      <td>8.0</td>\n",
       "      <td>6.0</td>\n",
       "      <td>-2.0</td>\n",
       "    </tr>\n",
       "    <tr>\n",
       "      <th>1051</th>\n",
       "      <td>US</td>\n",
       "      <td>United States</td>\n",
       "      <td>Alabama</td>\n",
       "      <td>Baldwin County</td>\n",
       "      <td>NaN</td>\n",
       "      <td>NaN</td>\n",
       "      <td>1003.0</td>\n",
       "      <td>2020-02-16</td>\n",
       "      <td>8.0</td>\n",
       "      <td>8.0</td>\n",
       "      <td>-12.0</td>\n",
       "      <td>7.0</td>\n",
       "      <td>-3.0</td>\n",
       "      <td>2.0</td>\n",
       "    </tr>\n",
       "    <tr>\n",
       "      <th>1052</th>\n",
       "      <td>US</td>\n",
       "      <td>United States</td>\n",
       "      <td>Alabama</td>\n",
       "      <td>Baldwin County</td>\n",
       "      <td>NaN</td>\n",
       "      <td>NaN</td>\n",
       "      <td>1003.0</td>\n",
       "      <td>2020-02-17</td>\n",
       "      <td>9.0</td>\n",
       "      <td>9.0</td>\n",
       "      <td>31.0</td>\n",
       "      <td>7.0</td>\n",
       "      <td>-3.0</td>\n",
       "      <td>1.0</td>\n",
       "    </tr>\n",
       "    <tr>\n",
       "      <th>1053</th>\n",
       "      <td>US</td>\n",
       "      <td>United States</td>\n",
       "      <td>Alabama</td>\n",
       "      <td>Baldwin County</td>\n",
       "      <td>NaN</td>\n",
       "      <td>NaN</td>\n",
       "      <td>1003.0</td>\n",
       "      <td>2020-02-18</td>\n",
       "      <td>7.0</td>\n",
       "      <td>8.0</td>\n",
       "      <td>21.0</td>\n",
       "      <td>0.0</td>\n",
       "      <td>2.0</td>\n",
       "      <td>0.0</td>\n",
       "    </tr>\n",
       "    <tr>\n",
       "      <th>1054</th>\n",
       "      <td>US</td>\n",
       "      <td>United States</td>\n",
       "      <td>Alabama</td>\n",
       "      <td>Baldwin County</td>\n",
       "      <td>NaN</td>\n",
       "      <td>NaN</td>\n",
       "      <td>1003.0</td>\n",
       "      <td>2020-02-19</td>\n",
       "      <td>12.0</td>\n",
       "      <td>9.0</td>\n",
       "      <td>41.0</td>\n",
       "      <td>8.0</td>\n",
       "      <td>3.0</td>\n",
       "      <td>-1.0</td>\n",
       "    </tr>\n",
       "  </tbody>\n",
       "</table>\n",
       "</div>"
      ],
      "text/plain": [
       "     country_region_code country_region sub_region_1    sub_region_2  \\\n",
       "1050                  US  United States      Alabama  Baldwin County   \n",
       "1051                  US  United States      Alabama  Baldwin County   \n",
       "1052                  US  United States      Alabama  Baldwin County   \n",
       "1053                  US  United States      Alabama  Baldwin County   \n",
       "1054                  US  United States      Alabama  Baldwin County   \n",
       "\n",
       "      metro_area iso_3166_2_code  census_fips_code        date  \\\n",
       "1050         NaN             NaN            1003.0  2020-02-15   \n",
       "1051         NaN             NaN            1003.0  2020-02-16   \n",
       "1052         NaN             NaN            1003.0  2020-02-17   \n",
       "1053         NaN             NaN            1003.0  2020-02-18   \n",
       "1054         NaN             NaN            1003.0  2020-02-19   \n",
       "\n",
       "      retail_and_recreation_percent_change_from_baseline  \\\n",
       "1050                                               17.0    \n",
       "1051                                                8.0    \n",
       "1052                                                9.0    \n",
       "1053                                                7.0    \n",
       "1054                                               12.0    \n",
       "\n",
       "      grocery_and_pharmacy_percent_change_from_baseline  \\\n",
       "1050                                               12.0   \n",
       "1051                                                8.0   \n",
       "1052                                                9.0   \n",
       "1053                                                8.0   \n",
       "1054                                                9.0   \n",
       "\n",
       "      parks_percent_change_from_baseline  \\\n",
       "1050                                55.0   \n",
       "1051                               -12.0   \n",
       "1052                                31.0   \n",
       "1053                                21.0   \n",
       "1054                                41.0   \n",
       "\n",
       "      transit_stations_percent_change_from_baseline  \\\n",
       "1050                                            8.0   \n",
       "1051                                            7.0   \n",
       "1052                                            7.0   \n",
       "1053                                            0.0   \n",
       "1054                                            8.0   \n",
       "\n",
       "      workplaces_percent_change_from_baseline  \\\n",
       "1050                                      6.0   \n",
       "1051                                     -3.0   \n",
       "1052                                     -3.0   \n",
       "1053                                      2.0   \n",
       "1054                                      3.0   \n",
       "\n",
       "      residential_percent_change_from_baseline  \n",
       "1050                                      -2.0  \n",
       "1051                                       2.0  \n",
       "1052                                       1.0  \n",
       "1053                                       0.0  \n",
       "1054                                      -1.0  "
      ]
     },
     "execution_count": 14,
     "metadata": {},
     "output_type": "execute_result"
    }
   ],
   "source": [
    "merged = clean_country_df.merge(state_county_pair, how='outer', indicator=True)\n",
    "merged[merged['_merge'] =='both'].index\n",
    "clean_country_df = clean_country_df[(merged['_merge'] =='both').values]\n",
    "#clean_country_df = clean_country_df[clean_country_df['sub_region_2'] in state_county_pair.]\n",
    "clean_country_df.head()"
   ]
  },
  {
   "cell_type": "markdown",
   "metadata": {},
   "source": [
    "Plot for one particular county"
   ]
  },
  {
   "cell_type": "code",
   "execution_count": 23,
   "metadata": {},
   "outputs": [
    {
     "name": "stdout",
     "output_type": "stream",
     "text": [
      "     country_region_code country_region sub_region_1    sub_region_2  \\\n",
      "1050                  US  United States      Alabama  Baldwin County   \n",
      "1051                  US  United States      Alabama  Baldwin County   \n",
      "1052                  US  United States      Alabama  Baldwin County   \n",
      "1053                  US  United States      Alabama  Baldwin County   \n",
      "1054                  US  United States      Alabama  Baldwin County   \n",
      "...                  ...            ...          ...             ...   \n",
      "1397                  US  United States      Alabama  Baldwin County   \n",
      "1398                  US  United States      Alabama  Baldwin County   \n",
      "1399                  US  United States      Alabama  Baldwin County   \n",
      "1400                  US  United States      Alabama  Baldwin County   \n",
      "1401                  US  United States      Alabama  Baldwin County   \n",
      "\n",
      "      metro_area iso_3166_2_code  census_fips_code        date  \\\n",
      "1050         NaN             NaN            1003.0  2020-02-15   \n",
      "1051         NaN             NaN            1003.0  2020-02-16   \n",
      "1052         NaN             NaN            1003.0  2020-02-17   \n",
      "1053         NaN             NaN            1003.0  2020-02-18   \n",
      "1054         NaN             NaN            1003.0  2020-02-19   \n",
      "...          ...             ...               ...         ...   \n",
      "1397         NaN             NaN            1003.0  2021-01-27   \n",
      "1398         NaN             NaN            1003.0  2021-01-28   \n",
      "1399         NaN             NaN            1003.0  2021-01-29   \n",
      "1400         NaN             NaN            1003.0  2021-01-30   \n",
      "1401         NaN             NaN            1003.0  2021-01-31   \n",
      "\n",
      "      retail_and_recreation_percent_change_from_baseline  \\\n",
      "1050                                               17.0    \n",
      "1051                                                8.0    \n",
      "1052                                                9.0    \n",
      "1053                                                7.0    \n",
      "1054                                               12.0    \n",
      "...                                                 ...    \n",
      "1397                                              -11.0    \n",
      "1398                                              -13.0    \n",
      "1399                                              -14.0    \n",
      "1400                                               -9.0    \n",
      "1401                                              -13.0    \n",
      "\n",
      "      grocery_and_pharmacy_percent_change_from_baseline  \\\n",
      "1050                                               12.0   \n",
      "1051                                                8.0   \n",
      "1052                                                9.0   \n",
      "1053                                                8.0   \n",
      "1054                                                9.0   \n",
      "...                                                 ...   \n",
      "1397                                               -4.0   \n",
      "1398                                               -4.0   \n",
      "1399                                               -8.0   \n",
      "1400                                               -3.0   \n",
      "1401                                                0.0   \n",
      "\n",
      "      parks_percent_change_from_baseline  \\\n",
      "1050                                55.0   \n",
      "1051                               -12.0   \n",
      "1052                                31.0   \n",
      "1053                                21.0   \n",
      "1054                                41.0   \n",
      "...                                  ...   \n",
      "1397                                 9.0   \n",
      "1398                                -9.0   \n",
      "1399                                16.0   \n",
      "1400                                23.0   \n",
      "1401                                 2.0   \n",
      "\n",
      "      transit_stations_percent_change_from_baseline  \\\n",
      "1050                                            8.0   \n",
      "1051                                            7.0   \n",
      "1052                                            7.0   \n",
      "1053                                            0.0   \n",
      "1054                                            8.0   \n",
      "...                                             ...   \n",
      "1397                                          -10.0   \n",
      "1398                                          -12.0   \n",
      "1399                                          -13.0   \n",
      "1400                                          -16.0   \n",
      "1401                                           -6.0   \n",
      "\n",
      "      workplaces_percent_change_from_baseline  \\\n",
      "1050                                      6.0   \n",
      "1051                                     -3.0   \n",
      "1052                                     -3.0   \n",
      "1053                                      2.0   \n",
      "1054                                      3.0   \n",
      "...                                       ...   \n",
      "1397                                    -20.0   \n",
      "1398                                    -20.0   \n",
      "1399                                    -22.0   \n",
      "1400                                    -12.0   \n",
      "1401                                    -19.0   \n",
      "\n",
      "      residential_percent_change_from_baseline  \n",
      "1050                                      -2.0  \n",
      "1051                                       2.0  \n",
      "1052                                       1.0  \n",
      "1053                                       0.0  \n",
      "1054                                      -1.0  \n",
      "...                                        ...  \n",
      "1397                                       4.0  \n",
      "1398                                       5.0  \n",
      "1399                                       4.0  \n",
      "1400                                       2.0  \n",
      "1401                                       3.0  \n",
      "\n",
      "[327 rows x 14 columns]\n"
     ]
    }
   ],
   "source": [
    "state, county = state_county_pair.loc[0]\n",
    "state_idx = clean_country_df['sub_region_1']==state\n",
    "county_idx = clean_country_df['sub_region_2']==county\n",
    "clean_county_df = clean_country_df[state_idx & county_idx]\n"
   ]
  },
  {
   "cell_type": "code",
   "execution_count": null,
   "metadata": {},
   "outputs": [],
   "source": []
  },
  {
   "cell_type": "code",
   "execution_count": null,
   "metadata": {},
   "outputs": [],
   "source": []
  },
  {
   "cell_type": "code",
   "execution_count": null,
   "metadata": {},
   "outputs": [],
   "source": []
  },
  {
   "cell_type": "code",
   "execution_count": null,
   "metadata": {},
   "outputs": [],
   "source": []
  },
  {
   "cell_type": "markdown",
   "metadata": {},
   "source": [
    "Pravallika"
   ]
  },
  {
   "cell_type": "code",
   "execution_count": null,
   "metadata": {},
   "outputs": [],
   "source": []
  },
  {
   "cell_type": "code",
   "execution_count": null,
   "metadata": {},
   "outputs": [],
   "source": []
  },
  {
   "cell_type": "code",
   "execution_count": null,
   "metadata": {},
   "outputs": [],
   "source": []
  },
  {
   "cell_type": "code",
   "execution_count": null,
   "metadata": {},
   "outputs": [],
   "source": []
  },
  {
   "cell_type": "code",
   "execution_count": null,
   "metadata": {},
   "outputs": [],
   "source": []
  },
  {
   "cell_type": "markdown",
   "metadata": {},
   "source": [
    "Safia"
   ]
  },
  {
   "cell_type": "code",
   "execution_count": null,
   "metadata": {},
   "outputs": [],
   "source": []
  },
  {
   "cell_type": "code",
   "execution_count": null,
   "metadata": {},
   "outputs": [],
   "source": []
  },
  {
   "cell_type": "code",
   "execution_count": null,
   "metadata": {},
   "outputs": [],
   "source": []
  },
  {
   "cell_type": "code",
   "execution_count": null,
   "metadata": {},
   "outputs": [],
   "source": []
  },
  {
   "cell_type": "code",
   "execution_count": null,
   "metadata": {},
   "outputs": [],
   "source": []
  },
  {
   "cell_type": "code",
   "execution_count": null,
   "metadata": {},
   "outputs": [],
   "source": []
  },
  {
   "cell_type": "code",
   "execution_count": null,
   "metadata": {},
   "outputs": [],
   "source": []
  },
  {
   "cell_type": "code",
   "execution_count": null,
   "metadata": {},
   "outputs": [],
   "source": []
  },
  {
   "cell_type": "code",
   "execution_count": null,
   "metadata": {},
   "outputs": [],
   "source": []
  },
  {
   "cell_type": "code",
   "execution_count": null,
   "metadata": {},
   "outputs": [],
   "source": []
  }
 ],
 "metadata": {
  "kernelspec": {
   "display_name": "Python 3",
   "language": "python",
   "name": "python3"
  },
  "language_info": {
   "codemirror_mode": {
    "name": "ipython",
    "version": 3
   },
   "file_extension": ".py",
   "mimetype": "text/x-python",
   "name": "python",
   "nbconvert_exporter": "python",
   "pygments_lexer": "ipython3",
   "version": "3.7.6"
  }
 },
 "nbformat": 4,
 "nbformat_minor": 4
}
